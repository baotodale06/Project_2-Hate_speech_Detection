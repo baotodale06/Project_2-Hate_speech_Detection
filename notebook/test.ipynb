{
 "cells": [
  {
   "cell_type": "code",
   "execution_count": 2,
   "id": "fd9cf3ea",
   "metadata": {},
   "outputs": [],
   "source": [
    "import pandas as pd"
   ]
  },
  {
   "cell_type": "code",
   "execution_count": 4,
   "id": "bf34b616",
   "metadata": {},
   "outputs": [
    {
     "name": "stdout",
     "output_type": "stream",
     "text": [
      "Collecting pandas\n",
      "  Downloading pandas-2.3.1-cp313-cp313-win_amd64.whl.metadata (19 kB)\n",
      "Requirement already satisfied: numpy>=1.26.0 in c:\\users\\user\\miniconda3\\lib\\site-packages (from pandas) (2.3.2)\n",
      "Requirement already satisfied: python-dateutil>=2.8.2 in c:\\users\\user\\miniconda3\\lib\\site-packages (from pandas) (2.9.0.post0)\n",
      "Requirement already satisfied: pytz>=2020.1 in c:\\users\\user\\miniconda3\\lib\\site-packages (from pandas) (2025.2)\n",
      "Requirement already satisfied: tzdata>=2022.7 in c:\\users\\user\\miniconda3\\lib\\site-packages (from pandas) (2025.2)\n",
      "Requirement already satisfied: six>=1.5 in c:\\users\\user\\miniconda3\\lib\\site-packages (from python-dateutil>=2.8.2->pandas) (1.17.0)\n",
      "Downloading pandas-2.3.1-cp313-cp313-win_amd64.whl (11.0 MB)\n",
      "   ---------------------------------------- 0.0/11.0 MB ? eta -:--:--\n",
      "   - -------------------------------------- 0.5/11.0 MB 5.1 MB/s eta 0:00:03\n",
      "   ------ --------------------------------- 1.8/11.0 MB 5.7 MB/s eta 0:00:02\n",
      "   ------------ --------------------------- 3.4/11.0 MB 6.5 MB/s eta 0:00:02\n",
      "   ------------------ --------------------- 5.0/11.0 MB 7.0 MB/s eta 0:00:01\n",
      "   -------------------------- ------------- 7.3/11.0 MB 7.9 MB/s eta 0:00:01\n",
      "   ----------------------------------- ---- 9.7/11.0 MB 8.5 MB/s eta 0:00:01\n",
      "   ---------------------------------------- 11.0/11.0 MB 8.7 MB/s eta 0:00:00\n",
      "Installing collected packages: pandas\n",
      "Successfully installed pandas-2.3.1\n"
     ]
    }
   ],
   "source": [
    "!pip install pandas"
   ]
  },
  {
   "cell_type": "code",
   "execution_count": 3,
   "id": "4c61eee9",
   "metadata": {},
   "outputs": [],
   "source": [
    "df = pd.read_csv(\"../data/track2_train/track2_augmented_enhanced.csv\")"
   ]
  },
  {
   "cell_type": "code",
   "execution_count": 4,
   "id": "df1f5739",
   "metadata": {},
   "outputs": [
    {
     "data": {
      "text/plain": [
       "array(['i_marilynmonroe pasa marimacha hizo joto',\n",
       "       'adan_coromoto nicolasmaduro par maricones',\n",
       "       'pollobv puto mierda después carrera :thumbs_down::thumbs_down::thumbs_down::thumbs_down::thumbs_down::thumbs_down::thumbs_down::thumbs_down::thumbs_down::thumbs_down::thumbs_down::thumbs_down::thumbs_down::thumbs_down::thumbs_down::thumbs_down::thumbs_down::thumbs_down::thumbs_down::OK_hand: hdp',\n",
       "       ...,\n",
       "       'entreces chinguen madre malditalesbiana-s iba contestar putas locas quarieron',\n",
       "       'mándalo joto',\n",
       "       'fer_gay therock alexmonthy hectortrejo inspiró recordándome canción url'],\n",
       "      shape=(1312,), dtype=object)"
      ]
     },
     "execution_count": 4,
     "metadata": {},
     "output_type": "execute_result"
    }
   ],
   "source": [
    "X = df['content'].values\n",
    "X"
   ]
  },
  {
   "cell_type": "code",
   "execution_count": 5,
   "id": "6e303b26",
   "metadata": {},
   "outputs": [],
   "source": [
    "y = df.iloc[:,2:].values"
   ]
  },
  {
   "cell_type": "code",
   "execution_count": 10,
   "id": "a7f987fb",
   "metadata": {},
   "outputs": [
    {
     "data": {
      "text/html": [
       "<div>\n",
       "<style scoped>\n",
       "    .dataframe tbody tr th:only-of-type {\n",
       "        vertical-align: middle;\n",
       "    }\n",
       "\n",
       "    .dataframe tbody tr th {\n",
       "        vertical-align: top;\n",
       "    }\n",
       "\n",
       "    .dataframe thead th {\n",
       "        text-align: right;\n",
       "    }\n",
       "</style>\n",
       "<table border=\"1\" class=\"dataframe\">\n",
       "  <thead>\n",
       "    <tr style=\"text-align: right;\">\n",
       "      <th></th>\n",
       "      <th>Unnamed: 0</th>\n",
       "      <th>content</th>\n",
       "      <th>L</th>\n",
       "      <th>G</th>\n",
       "      <th>B</th>\n",
       "      <th>T</th>\n",
       "      <th>O</th>\n",
       "      <th>NR</th>\n",
       "    </tr>\n",
       "  </thead>\n",
       "  <tbody>\n",
       "    <tr>\n",
       "      <th>0</th>\n",
       "      <td>1027</td>\n",
       "      <td>i_marilynmonroe pasa marimacha hizo joto</td>\n",
       "      <td>1</td>\n",
       "      <td>1</td>\n",
       "      <td>0</td>\n",
       "      <td>0</td>\n",
       "      <td>0</td>\n",
       "      <td>0</td>\n",
       "    </tr>\n",
       "    <tr>\n",
       "      <th>1</th>\n",
       "      <td>367</td>\n",
       "      <td>adan_coromoto nicolasmaduro par maricones</td>\n",
       "      <td>0</td>\n",
       "      <td>1</td>\n",
       "      <td>0</td>\n",
       "      <td>0</td>\n",
       "      <td>0</td>\n",
       "      <td>0</td>\n",
       "    </tr>\n",
       "    <tr>\n",
       "      <th>2</th>\n",
       "      <td>549</td>\n",
       "      <td>pollobv puto mierda después carrera :thumbs_do...</td>\n",
       "      <td>0</td>\n",
       "      <td>1</td>\n",
       "      <td>0</td>\n",
       "      <td>0</td>\n",
       "      <td>0</td>\n",
       "      <td>0</td>\n",
       "    </tr>\n",
       "    <tr>\n",
       "      <th>3</th>\n",
       "      <td>282</td>\n",
       "      <td>puto check joto check maricón check problema</td>\n",
       "      <td>0</td>\n",
       "      <td>1</td>\n",
       "      <td>0</td>\n",
       "      <td>0</td>\n",
       "      <td>0</td>\n",
       "      <td>0</td>\n",
       "    </tr>\n",
       "    <tr>\n",
       "      <th>4</th>\n",
       "      <td>678</td>\n",
       "      <td>michohansen odin_dupeyron `` gay `` lago cisne...</td>\n",
       "      <td>0</td>\n",
       "      <td>1</td>\n",
       "      <td>0</td>\n",
       "      <td>0</td>\n",
       "      <td>0</td>\n",
       "      <td>0</td>\n",
       "    </tr>\n",
       "    <tr>\n",
       "      <th>...</th>\n",
       "      <td>...</td>\n",
       "      <td>...</td>\n",
       "      <td>...</td>\n",
       "      <td>...</td>\n",
       "      <td>...</td>\n",
       "      <td>...</td>\n",
       "      <td>...</td>\n",
       "      <td>...</td>\n",
       "    </tr>\n",
       "    <tr>\n",
       "      <th>1307</th>\n",
       "      <td>110</td>\n",
       "      <td>amigo luego lesbiana lesbiana karla garcía amo...</td>\n",
       "      <td>1</td>\n",
       "      <td>0</td>\n",
       "      <td>0</td>\n",
       "      <td>0</td>\n",
       "      <td>0</td>\n",
       "      <td>0</td>\n",
       "    </tr>\n",
       "    <tr>\n",
       "      <th>1308</th>\n",
       "      <td>241</td>\n",
       "      <td>¿qué onda amigas ermana años dicen bisexuales ...</td>\n",
       "      <td>0</td>\n",
       "      <td>0</td>\n",
       "      <td>1</td>\n",
       "      <td>0</td>\n",
       "      <td>0</td>\n",
       "      <td>0</td>\n",
       "    </tr>\n",
       "    <tr>\n",
       "      <th>1309</th>\n",
       "      <td>1007</td>\n",
       "      <td>entreces chinguen madre malditalesbiana-s iba ...</td>\n",
       "      <td>1</td>\n",
       "      <td>0</td>\n",
       "      <td>0</td>\n",
       "      <td>0</td>\n",
       "      <td>0</td>\n",
       "      <td>0</td>\n",
       "    </tr>\n",
       "    <tr>\n",
       "      <th>1310</th>\n",
       "      <td>860</td>\n",
       "      <td>mándalo joto</td>\n",
       "      <td>0</td>\n",
       "      <td>1</td>\n",
       "      <td>0</td>\n",
       "      <td>0</td>\n",
       "      <td>0</td>\n",
       "      <td>0</td>\n",
       "    </tr>\n",
       "    <tr>\n",
       "      <th>1311</th>\n",
       "      <td>229</td>\n",
       "      <td>fer_gay therock alexmonthy hectortrejo inspiró...</td>\n",
       "      <td>0</td>\n",
       "      <td>0</td>\n",
       "      <td>0</td>\n",
       "      <td>0</td>\n",
       "      <td>1</td>\n",
       "      <td>0</td>\n",
       "    </tr>\n",
       "  </tbody>\n",
       "</table>\n",
       "<p>1312 rows × 8 columns</p>\n",
       "</div>"
      ],
      "text/plain": [
       "      Unnamed: 0                                            content  L  G  B  \\\n",
       "0           1027           i_marilynmonroe pasa marimacha hizo joto  1  1  0   \n",
       "1            367          adan_coromoto nicolasmaduro par maricones  0  1  0   \n",
       "2            549  pollobv puto mierda después carrera :thumbs_do...  0  1  0   \n",
       "3            282       puto check joto check maricón check problema  0  1  0   \n",
       "4            678  michohansen odin_dupeyron `` gay `` lago cisne...  0  1  0   \n",
       "...          ...                                                ... .. .. ..   \n",
       "1307         110  amigo luego lesbiana lesbiana karla garcía amo...  1  0  0   \n",
       "1308         241  ¿qué onda amigas ermana años dicen bisexuales ...  0  0  1   \n",
       "1309        1007  entreces chinguen madre malditalesbiana-s iba ...  1  0  0   \n",
       "1310         860                                       mándalo joto  0  1  0   \n",
       "1311         229  fer_gay therock alexmonthy hectortrejo inspiró...  0  0  0   \n",
       "\n",
       "      T  O  NR  \n",
       "0     0  0   0  \n",
       "1     0  0   0  \n",
       "2     0  0   0  \n",
       "3     0  0   0  \n",
       "4     0  0   0  \n",
       "...  .. ..  ..  \n",
       "1307  0  0   0  \n",
       "1308  0  0   0  \n",
       "1309  0  0   0  \n",
       "1310  0  0   0  \n",
       "1311  0  1   0  \n",
       "\n",
       "[1312 rows x 8 columns]"
      ]
     },
     "execution_count": 10,
     "metadata": {},
     "output_type": "execute_result"
    }
   ],
   "source": [
    "df"
   ]
  },
  {
   "cell_type": "code",
   "execution_count": 6,
   "id": "86e8d337",
   "metadata": {},
   "outputs": [
    {
     "name": "stdout",
     "output_type": "stream",
     "text": [
      "<class 'pandas.core.frame.DataFrame'>\n",
      "RangeIndex: 1312 entries, 0 to 1311\n",
      "Data columns (total 8 columns):\n",
      " #   Column      Non-Null Count  Dtype \n",
      "---  ------      --------------  ----- \n",
      " 0   Unnamed: 0  1312 non-null   int64 \n",
      " 1   content     1312 non-null   object\n",
      " 2   L           1312 non-null   int64 \n",
      " 3   G           1312 non-null   int64 \n",
      " 4   B           1312 non-null   int64 \n",
      " 5   T           1312 non-null   int64 \n",
      " 6   O           1312 non-null   int64 \n",
      " 7   NR          1312 non-null   int64 \n",
      "dtypes: int64(7), object(1)\n",
      "memory usage: 82.1+ KB\n"
     ]
    }
   ],
   "source": [
    "df.info()"
   ]
  },
  {
   "cell_type": "code",
   "execution_count": 9,
   "id": "1be5536d",
   "metadata": {},
   "outputs": [
    {
     "data": {
      "text/plain": [
       "Unnamed: 0  content                                                                                                                                                                                           L  G  B  T  O  NR\n",
       "1027        i_marilynmonroe pasa marimacha hizo joto                                                                                                                                                          1  1  0  0  0  0     2\n",
       "400         lomásleídodelai » envían `` machorras '' cereso url                                                                                                                                               1  0  0  0  0  0     2\n",
       "1051        aliss_one si costumbre social vivimos aunque conocido chicas trans cargan tampones esconderse lol ridículas                                                                                       0  0  0  1  0  0     2\n",
       "245         weyes cejas travesti sabe dan jota tele                                                                                                                                                           0  0  0  1  0  0     2\n",
       "229         fer_gay therock alexmonthy hectortrejo inspiró recordándome canción url                                                                                                                           0  0  0  0  1  0     2\n",
       "                                                                                                                                                                                                                                  ..\n",
       "1042        niriams ahora resulta ke ser lesbiana orgullo :face_with_tears_of_joy::face_with_tears_of_joy::face_with_tears_of_joy::face_with_tears_of_joy::face_with_tears_of_joy: mamen ke lleven exorcismo  1  0  0  0  0  0     1\n",
       "1043        edith_gdi jajaja sufras pasa punto prena chicas encanta transestirse hombre llaman lesbianas                                                                                                      1  0  0  1  0  0     1\n",
       "            edith_gdi jajaja sufras pasa punto prenda chicas encanta travestirse hombre llaman lesbianas                                                                                                      1  0  0  1  0  0     1\n",
       "1044        ahora piensan lencha                                                                                                                                                                              1  0  0  0  0  0     1\n",
       "0           ¡qué poca madre ¡pero joto manceramiguelmx machorra cdhdf prefieren defence malditos delincuentes penademuerteya url                                                                              1  1  0  0  0  0     1\n",
       "Name: count, Length: 1281, dtype: int64"
      ]
     },
     "execution_count": 9,
     "metadata": {},
     "output_type": "execute_result"
    }
   ],
   "source": [
    "df.value_counts()"
   ]
  },
  {
   "cell_type": "code",
   "execution_count": null,
   "id": "39adb1e3",
   "metadata": {},
   "outputs": [],
   "source": []
  }
 ],
 "metadata": {
  "kernelspec": {
   "display_name": "base",
   "language": "python",
   "name": "python3"
  },
  "language_info": {
   "codemirror_mode": {
    "name": "ipython",
    "version": 3
   },
   "file_extension": ".py",
   "mimetype": "text/x-python",
   "name": "python",
   "nbconvert_exporter": "python",
   "pygments_lexer": "ipython3",
   "version": "3.13.5"
  }
 },
 "nbformat": 4,
 "nbformat_minor": 5
}
